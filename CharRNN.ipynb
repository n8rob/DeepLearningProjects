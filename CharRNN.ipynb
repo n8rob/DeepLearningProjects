{
  "nbformat": 4,
  "nbformat_minor": 0,
  "metadata": {
    "colab": {
      "name": "Nate_Robinson_DL_Lab6.ipynb",
      "provenance": [],
      "collapsed_sections": [],
      "machine_shape": "hm"
    },
    "kernelspec": {
      "name": "python3",
      "display_name": "Python 3"
    },
    "language_info": {
      "codemirror_mode": {
        "name": "ipython",
        "version": 3
      },
      "file_extension": ".py",
      "mimetype": "text/x-python",
      "name": "python",
      "nbconvert_exporter": "python",
      "pygments_lexer": "ipython3",
      "version": "3.6.3"
    },
    "pycharm": {
      "stem_cell": {
        "cell_type": "raw",
        "metadata": {
          "collapsed": false
        },
        "source": []
      }
    },
    "accelerator": "GPU"
  },
  "cells": [
    {
      "cell_type": "markdown",
      "metadata": {
        "id": "cksgAH12XRjV"
      },
      "source": [
        "# Char-RNN Implementation (sequence-to-sequence model)\n",
        "\n",
        "## Description:\n",
        "We code up the [char-rnn model of Karpathy](http://karpathy.github.io/2015/05/21/rnn-effectiveness/). This is a recurrent neural network that is trained probabilistically on sequences of characters, and that can then be used to sample new sequences that are like the original.\n",
        "\n",
        "## There are two parts of this lab:\n",
        "###  1.   Wiring up a basic sequence-to-sequence computation graph\n",
        "###  2.   Implementing custom GRU cell.\n",
        "\n",
        "\n",
        "An example of some final samples from an equivalent implementation are shown below (more detail in the\n",
        "final section of this writeup), after 150 passes through the data.\n",
        "We generate about 15 samples for each dataset.\n",
        "\n",
        "<code>\n",
        "And ifte thin forgision forward thene over up to a fear not your\n",
        "And freitions, which is great God. Behold these are the loss sub\n",
        "And ache with the Lord hath bloes, which was done to the holy Gr\n",
        "And appeicis arm vinimonahites strong in name, to doth piseling \n",
        "And miniquithers these words, he commanded order not; neither sa\n",
        "And min for many would happine even to the earth, to said unto m\n",
        "And mie first be traditions? Behold, you, because it was a sound\n",
        "And from tike ended the Lamanites had administered, and I say bi\n",
        "</code>\n"
      ]
    },
    {
      "cell_type": "code",
      "metadata": {
        "id": "l7bdZWxvJrsx"
      },
      "source": [
        "# ! wget -O ./text_files.tar.gz 'https://piazza.com/redirect/s3?bucket=uploads&prefix=attach%2Fjlifkda6h0x5bk%2Fhzosotq4zil49m%2Fjn13x09arfeb%2Ftext_files.tar.gz' \n",
        "# ! tar -xzf text_files.tar.gz\n",
        "# ! pip install unidecode\n",
        "# ! pip install torch\n",
        "\n",
        "import unidecode\n",
        "import string\n",
        "import random\n",
        "import re\n",
        " \n",
        "import pdb\n",
        " \n",
        "all_characters = string.printable\n",
        "n_characters = len(all_characters)\n",
        "# file = unidecode.unidecode(open('./text_files/lotr.txt').read())\n",
        "# file_len = len(file)\n",
        "# print('file_len =', file_len)\n",
        "\n",
        "CUDA_LAUNCH_BLOCKING=1"
      ],
      "execution_count": null,
      "outputs": []
    },
    {
      "cell_type": "code",
      "metadata": {
        "id": "d111-VqIl8Cu",
        "outputId": "7f8c7887-4da3-4776-a012-943aab947369",
        "colab": {
          "resources": {
            "http://localhost:8080/nbextensions/google.colab/files.js": {
              "data": "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",
              "ok": true,
              "headers": [
                [
                  "content-type",
                  "application/javascript"
                ]
              ],
              "status": 200,
              "status_text": ""
            }
          },
          "base_uri": "https://localhost:8080/",
          "height": 91
        }
      },
      "source": [
        "from google.colab import files\n",
        "import io\n",
        "def upload():\n",
        "  print('Upload Text')\n",
        "  file_dict = files.upload()\n",
        "  content_path = io.BytesIO(file_dict[next(iter(file_dict))])\n",
        "  return content_path\n",
        "\n",
        "content_path_text = upload()"
      ],
      "execution_count": null,
      "outputs": [
        {
          "output_type": "stream",
          "text": [
            "Upload Text\n"
          ],
          "name": "stdout"
        },
        {
          "output_type": "display_data",
          "data": {
            "text/html": [
              "\n",
              "     <input type=\"file\" id=\"files-4b95f603-9364-467c-b43d-623da57efa69\" name=\"files[]\" multiple disabled />\n",
              "     <output id=\"result-4b95f603-9364-467c-b43d-623da57efa69\">\n",
              "      Upload widget is only available when the cell has been executed in the\n",
              "      current browser session. Please rerun this cell to enable.\n",
              "      </output>\n",
              "      <script src=\"/nbextensions/google.colab/files.js\"></script> "
            ],
            "text/plain": [
              "<IPython.core.display.HTML object>"
            ]
          },
          "metadata": {
            "tags": []
          }
        },
        {
          "output_type": "stream",
          "text": [
            "Saving christmas_carol.txt to christmas_carol (12).txt\n"
          ],
          "name": "stdout"
        }
      ]
    },
    {
      "cell_type": "code",
      "metadata": {
        "id": "6bJt1l3QmgT2",
        "outputId": "46c6f729-fcdd-4010-90db-abe941a06dcf",
        "colab": {
          "base_uri": "https://localhost:8080/",
          "height": 34
        }
      },
      "source": [
        "file = content_path_text.read()\n",
        "file = str(file).replace(\"\\\\r\\\\n\",'\\n')\n",
        "file = unidecode.unidecode(file)\n",
        "file_len = len(file)\n",
        "print('file_len =', file_len)"
      ],
      "execution_count": null,
      "outputs": [
        {
          "output_type": "stream",
          "text": [
            "file_len = 178293\n"
          ],
          "name": "stdout"
        }
      ]
    },
    {
      "cell_type": "code",
      "metadata": {
        "id": "TxBeKeNjJ0NQ",
        "outputId": "f74302dd-1bca-4e41-c9c7-03bf37a7ed16",
        "colab": {
          "base_uri": "https://localhost:8080/",
          "height": 85
        }
      },
      "source": [
        "chunk_len = 200\n",
        " \n",
        "def random_chunk():\n",
        "  start_index = random.randint(0, file_len - chunk_len)\n",
        "  end_index = start_index + chunk_len + 1\n",
        "  return file[start_index:end_index]\n",
        "  \n",
        "print(random_chunk())"
      ],
      "execution_count": null,
      "outputs": [
        {
          "output_type": "stream",
          "text": [
            "arth swept, and the fire made up. The compound in the\n",
            "jug being tasted, and considered perfect, apples and oranges\n",
            "were put upon the table, and a shovel-full of chestnuts on the\n",
            "fire. Then all the Crat\n"
          ],
          "name": "stdout"
        }
      ]
    },
    {
      "cell_type": "code",
      "metadata": {
        "id": "On0_WitWJ99e",
        "outputId": "02a6a554-e860-4da5-d095-27916fc34c8a",
        "colab": {
          "base_uri": "https://localhost:8080/",
          "height": 34
        }
      },
      "source": [
        "import torch\n",
        "from torch.autograd import Variable\n",
        "# Turn string into list of longs\n",
        "def char_tensor(string):\n",
        "  tensor = torch.zeros(len(string)).long() #FIXME: CUDA?\n",
        "  for c in range(len(string)):\n",
        "      tensor[c] = all_characters.index(string[c])\n",
        "  return Variable(tensor.cuda())\n",
        "\n",
        "print(char_tensor('abcDEF'))"
      ],
      "execution_count": null,
      "outputs": [
        {
          "output_type": "stream",
          "text": [
            "tensor([10, 11, 12, 39, 40, 41], device='cuda:0')\n"
          ],
          "name": "stdout"
        }
      ]
    },
    {
      "cell_type": "markdown",
      "metadata": {
        "id": "CYJPTLcaYmfI"
      },
      "source": [
        "---\n",
        "\n",
        "## Creating our own GRU cell \n",
        "\n",
        "---\n",
        "\n",
        "We write our own GRU class using the same parameters as the built-in Pytorch class does.\n",
        "\n"
      ]
    },
    {
      "cell_type": "code",
      "metadata": {
        "id": "aavAv50ZKQ-F"
      },
      "source": [
        "import torch.nn as nn\n",
        "import torch.nn.functional as F\n",
        "from torch.autograd import Variable\n",
        "from torch.nn.parameter import Parameter\n",
        "\n",
        "\n",
        "class GRU(nn.Module):\n",
        "  def __init__(self, input_size, hidden_size, num_layers):\n",
        "    super(GRU, self).__init__()\n",
        "    self.input_size = input_size\n",
        "    self.hidden_size = hidden_size\n",
        "    self.num_layers = num_layers\n",
        "    \n",
        "    self.lin_ir = nn.Linear(input_size, hidden_size).cuda()\n",
        "    self.lin_hr = nn.Linear(hidden_size, hidden_size).cuda()\n",
        "    self.lin_iz = nn.Linear(input_size, hidden_size).cuda()\n",
        "    self.lin_hz = nn.Linear(hidden_size, hidden_size).cuda()\n",
        "    self.lin_in = nn.Linear(input_size, hidden_size).cuda()\n",
        "    self.lin_hn = nn.Linear(hidden_size, hidden_size).cuda()\n",
        "  \n",
        "  def forward(self, inputs, hidden):\n",
        "    # Each layer does the following:\n",
        "    # r_t = sigmoid(W_ir*x_t + b_ir + W_hr*h_(t-1) + b_hr)\n",
        "    # z_t = sigmoid(W_iz*x_t + b_iz + W_hz*h_(t-1) + b_hz)\n",
        "    # n_t = tanh(W_in*x_t + b_in + r_t**(W_hn*h_(t-1) + b_hn))\n",
        "    # h_(t) = (1 - z_t)**n_t + z_t**h_(t-1)\n",
        "    # Where ** is hadamard product (not matrix multiplication, but elementwise multiplication)\n",
        "    \n",
        "    # We are at time 0\n",
        "    x = inputs.cuda()\n",
        "    h = hidden.cuda()\n",
        "#     h_s = h\n",
        "    r = torch.sigmoid(self.lin_ir(x) + self.lin_hr(h)).cuda()\n",
        "    z = torch.sigmoid(self.lin_iz(x) + self.lin_hz(h)).cuda()\n",
        "    n = torch.tanh(self.lin_in(x) + r*self.lin_hn(h)).cuda()\n",
        "    h = (1-z)*n + z*h  \n",
        "#       x = h\n",
        "#       hs = torch.cat(hs,h,dim=1)\n",
        "    \n",
        "    outputs = h.cuda()\n",
        "    hiddens = h.cuda()\n",
        "    return outputs, hiddens\n",
        "  \n",
        "# Embeddings model \n",
        "\n",
        "  \n"
      ],
      "execution_count": null,
      "outputs": []
    },
    {
      "cell_type": "markdown",
      "metadata": {
        "id": "qtXdX-B_WiAY"
      },
      "source": [
        "---\n",
        "\n",
        "##  Building a sequence to sequence model\n",
        "\n",
        "---\n",
        "\n",
        "Great! We have the data in a useable form. We can switch out which text file we are reading from, and trying to simulate.\n",
        "\n",
        "We now want to build out an RNN model, in this section, we will use all built in Pytorch pieces when building our RNN class.\n",
        "\n",
        "\n"
      ]
    },
    {
      "cell_type": "code",
      "metadata": {
        "id": "d6tNdEnzWj5F"
      },
      "source": [
        "class RNN(nn.Module):\n",
        "  def __init__(self, input_size, hidden_size, output_size, dim_vocab, n_layers=1):\n",
        "    super(RNN, self).__init__()\n",
        "    self.input_size = input_size\n",
        "    self.hidden_size = hidden_size\n",
        "    self.output_size = output_size\n",
        "    self.dim_vocab = dim_vocab\n",
        "    self.n_layers = n_layers\n",
        "    \n",
        "#     self.W_hh = nn.Linear(hidden_size,hidden_size)\n",
        "#     self.W_xh = nn.Linear(input_size,hidden_size)\n",
        "#     self.W_hy = nn.Linear(hidden_size,output_size)\n",
        "    \n",
        "    self.embedding = nn.Embedding(input_size, dim_vocab).cuda()\n",
        "    self.gru = GRU(input_size, hidden_size, n_layers)# nn.GRU(input_size=dim_vocab, hidden_size=hidden_size, num_layers=n_layers).cuda()\n",
        "    self.lin = nn.Linear(hidden_size, output_size).cuda() # \n",
        "\n",
        "  def forward(self, inp, hidden):\n",
        "    # by reviewing the documentation, construct a forward function that properly uses the output\n",
        "    # of the GRU\n",
        "    embedded = self.embedding(inp).view(1, 1, -1)\n",
        "#     print(\"Yo embed yo\")\n",
        "    embedded = F.relu(embedded.cuda())\n",
        "#     pdb.set_trace() # Good spot to de-bug\n",
        "    for t in range(self.n_layers):\n",
        "      out, hidden = self.gru(embedded, hidden)\n",
        "      out = self.lin(out[0])\n",
        "      embedded = F.relu(out.cuda())\n",
        "    \n",
        "    return out, hidden\n",
        "\n",
        "  def init_hidden(self):\n",
        "    return Variable(torch.zeros(self.n_layers, 1, self.hidden_size).cuda())"
      ],
      "execution_count": null,
      "outputs": []
    },
    {
      "cell_type": "code",
      "metadata": {
        "id": "hrhXghEPKD-5"
      },
      "source": [
        "def random_training_set(): \n",
        "  \"\"\" This fcn returns two tensors that are our encoded tokens (but not embedded)\n",
        "  \"\"\"\n",
        "  chunk = random_chunk()\n",
        "  chunk = chunk.replace(\"\\\\r\\\\n\",'\\n')\n",
        "#   pdb.set_trace()\n",
        "  inp = char_tensor(chunk[:-1]) # What we put in (all but last char)\n",
        "\n",
        "  target = char_tensor(chunk[1:]) # What we hope to get out (from second to last char)\n",
        "  return inp, target"
      ],
      "execution_count": null,
      "outputs": []
    },
    {
      "cell_type": "code",
      "metadata": {
        "id": "AOlGARBTIZSO",
        "outputId": "1f652692-b7bb-4310-d74a-f75b49a8cc8d",
        "colab": {
          "base_uri": "https://localhost:8080/",
          "height": 34
        }
      },
      "source": [
        "i,t=random_training_set()\n",
        "len(i)"
      ],
      "execution_count": null,
      "outputs": [
        {
          "output_type": "execute_result",
          "data": {
            "text/plain": [
              "200"
            ]
          },
          "metadata": {
            "tags": []
          },
          "execution_count": 10
        }
      ]
    },
    {
      "cell_type": "markdown",
      "metadata": {
        "id": "ZpiGObbBX0Mr"
      },
      "source": [
        "---\n",
        "\n",
        "## Sample text and Training information\n",
        "\n",
        "---\n",
        "\n",
        "We now want to be able to train our network, and sample text after training.\n",
        "\n",
        "This function outlines how training a sequence style network goes. \n",
        "\n",
        "\n",
        "\n"
      ]
    },
    {
      "cell_type": "code",
      "metadata": {
        "id": "2ALC3Pf8Kbsi"
      },
      "source": [
        "# hidden_size_default = 200 # This is the dimension of our embedding space\n",
        "# It's a hyper-parameter that we can tune as we like\n",
        "\n",
        "\n",
        "def train(inp, target):\n",
        "  \"\"\" \n",
        "  Parameters:\n",
        "    both are token-tensors generated by the char_tensor fcn\n",
        "      (and returned by the random_training_set fcn)\n",
        "  \"\"\"\n",
        "  ## initialize hidden layers, set up gradient and loss \n",
        "  \n",
        "  decoder_optimizer.zero_grad()\n",
        "  hidden = decoder.init_hidden()\n",
        "  loss = 0\n",
        "  \n",
        "  # more stuff here...\n",
        "  for inp_char, target_char in zip(inp,target):\n",
        "    y_hat, hidden = decoder.forward(inp_char,hidden) # Note: y_hat is like a prob'ty dist'n\n",
        "    target_char = target_char.unsqueeze(0) # Note: target_char is like an integer\n",
        "    loss += criterion(y_hat, target_char)\n",
        "  \n",
        "  loss.backward()\n",
        "  decoder_optimizer.step()\n",
        "  \n",
        "  return loss\n",
        "  \n",
        "  \n",
        "  "
      ],
      "execution_count": null,
      "outputs": []
    },
    {
      "cell_type": "markdown",
      "metadata": {
        "id": "EN06NUu3YRlz"
      },
      "source": [
        "---\n",
        "\n",
        "## Sample text and Training information\n",
        "\n",
        "---\n",
        "\n",
        "\n"
      ]
    },
    {
      "cell_type": "code",
      "metadata": {
        "id": "B-bp-OZ1KjNh"
      },
      "source": [
        "def evaluate(prime_str='A', predict_len=100, temperature=0.8):\n",
        "  ## initialize hidden variable, initialize other useful variables \n",
        "  # Get an initial hidden state \n",
        "  hidden = decoder.init_hidden()\n",
        "  list_of_tokens = [char for char in prime_str]\n",
        "  \n",
        "  for char in prime_str:\n",
        "    inp = char_tensor(prime_str[-1])\n",
        "    out_vec, hidden = decoder.forward(inp,hidden)\n",
        "  \n",
        "  # Take the final out_vec and calculate the char from it \n",
        "  out = torch.multinomial(out_vec/sum(out_vec), 1)\n",
        "  list_of_tokens.append(all_characters[int(out)])\n",
        "  \n",
        "  # Now we take that output char and keep generating based on that\n",
        "  inp = Variable( out.long().cuda() )\n",
        "  for _ in range(predict_len-1):\n",
        "    # Find a tensor token to pass through the model\n",
        "    out_vec, hidden = decoder.forward(inp,hidden)\n",
        "    \n",
        "    # Now let's get the out_vec to look like a probability dist'n\n",
        "    out_vec = softmax( torch.exp(out_vec/temperature) )\n",
        "    # Convert to a single number by sampling\n",
        "    out = torch.multinomial(out_vec, 1)\n",
        "    # Append to the list \n",
        "    list_of_tokens.append(all_characters[int(out)])\n",
        "    # Update\n",
        "    inp = Variable( out.long() )\n",
        "    \n",
        "  return ''.join(list_of_tokens)\n",
        "  ## /\n",
        "  "
      ],
      "execution_count": null,
      "outputs": []
    },
    {
      "cell_type": "markdown",
      "metadata": {
        "id": "GFS2bpHSZEU6"
      },
      "source": [
        "\n",
        "---\n",
        "\n",
        "## Run it and generate some text!\n",
        "\n",
        "---\n",
        "\n",
        "Assuming everything has gone well, you should be able to run the main function in the scaffold code, using either your custom GRU cell or the built in layer, and see output something like this. Using chunk_length=200, hidden_size=100 for 2000 epochs gave.\n",
        "\n"
      ]
    },
    {
      "cell_type": "code",
      "metadata": {
        "id": "-nXFeCmdKodw"
      },
      "source": [
        "import time\n",
        "n_epochs = 4000 # 5000\n",
        "print_every = 200\n",
        "plot_every = 10\n",
        "hidden_size = 400\n",
        "n_layers = 1\n",
        "dim_vocab = 100\n",
        "logsoftmax = nn.LogSoftmax(dim=1)\n",
        "softmax = nn.Softmax(dim=1)\n",
        "lr = 0.001\n",
        " \n",
        "decoder = RNN(n_characters, hidden_size, n_characters, dim_vocab=dim_vocab, n_layers=n_layers)\n",
        "decoder.cuda()\n",
        "decoder_optimizer = torch.optim.Adam(decoder.parameters(), lr=lr)\n",
        "criterion = nn.CrossEntropyLoss().cuda()\n",
        " \n",
        "start = time.time()\n",
        "all_losses = []\n",
        "loss_avg = 0"
      ],
      "execution_count": null,
      "outputs": []
    },
    {
      "cell_type": "code",
      "metadata": {
        "id": "cipYAVPfW-71",
        "outputId": "f1db4b6b-0638-486d-8942-3d8eaf6eac1f",
        "colab": {
          "base_uri": "https://localhost:8080/",
          "height": 34
        }
      },
      "source": [
        "evaluate()"
      ],
      "execution_count": null,
      "outputs": [
        {
          "output_type": "execute_result",
          "data": {
            "text/plain": [
              "'AK4KBh(JOn?p+Tt0\\r++P^ho\\\\mplP*=U\\rQZ<>zL `z<ZCc\\x0bC\\tKG_Wp*NBi*Lwsg.@<x42?bqhq5xUy|\\rs&|H >#/A7X Z\\tA>\\x0b%Bk\\\\5'"
            ]
          },
          "metadata": {
            "tags": []
          },
          "execution_count": 15
        }
      ]
    },
    {
      "cell_type": "code",
      "metadata": {
        "id": "bjbSSdzlV3I-",
        "outputId": "c23e71ef-2ea4-4dea-efb3-c761d2335772",
        "colab": {
          "base_uri": "https://localhost:8080/",
          "height": 34
        }
      },
      "source": [
        "emb_test = nn.Embedding(n_characters, dim_vocab).cuda()\n",
        "embd = emb_test(char_tensor(\"A\")).view(1, 1, -1)\n",
        "embdF = F.relu(embd)\n",
        "embdF.size()"
      ],
      "execution_count": null,
      "outputs": [
        {
          "output_type": "execute_result",
          "data": {
            "text/plain": [
              "torch.Size([1, 1, 100])"
            ]
          },
          "metadata": {
            "tags": []
          },
          "execution_count": 16
        }
      ]
    },
    {
      "cell_type": "code",
      "metadata": {
        "id": "xKfozqw-6eqb",
        "outputId": "b76c77e0-1b60-48a6-b15a-c7d4c82f911a",
        "colab": {
          "base_uri": "https://localhost:8080/",
          "height": 1000
        }
      },
      "source": [
        "# n_epochs = 2000\n",
        "for epoch in range(1, n_epochs + 1):\n",
        "  loss_ = train(*random_training_set()) # Note we're passing two token tensors through train     \n",
        "  loss_avg += loss_\n",
        "\n",
        "  if epoch % print_every == 0:\n",
        "      print('[%s s (epoch %d %d%%) %.4f]' % (time.time() - start, epoch, epoch / n_epochs * 100, loss_/100.))\n",
        "      eval_str = evaluate('Wh',temperature=.2).replace('\\n','\\\\n')\n",
        "      print(eval_str, '\\n')\n",
        "\n",
        "  if epoch % plot_every == 0:\n",
        "      all_losses.append(loss_avg / plot_every)\n",
        "      loss_avg = 0"
      ],
      "execution_count": null,
      "outputs": [
        {
          "output_type": "stream",
          "text": [
            "[104.2055287361145 s (epoch 200 5%) 4.4141]\n",
            "WhH the was the was the was the was the was the was the was the was the was the was the was the was th \n",
            "\n",
            "[208.13289618492126 s (epoch 400 10%) 3.8675]\n",
            "WhX his his his his his his his his his his his his his his his his his his his his his his his his hi \n",
            "\n",
            "[311.93042945861816 s (epoch 600 15%) 3.8104]\n",
            "WhAr so down and the was the could the was the was the was the was the could the was the was the was t \n",
            "\n",
            "[416.06379318237305 s (epoch 800 20%) 3.4703]\n",
            "Wh: said Scrooge and stoped the children and stoped the children and stoped the children and stoped th \n",
            "\n",
            "[519.8927199840546 s (epoch 1000 25%) 3.3508]\n",
            "WhZre to the wasted the wasted the wasted the\\nwasted the wasted the wasted the wasted the wasted the\\nw \n",
            "\n",
            "[624.4934210777283 s (epoch 1200 30%) 3.1558]\n",
            "Wh2us a should have been a should\\nhave been a sure and street in the was a see and stoped the was a sh \n",
            "\n",
            "[728.4678494930267 s (epoch 1400 35%) 3.2303]\n",
            "Wh0ing and state as the was the was the was the was the was the was the was the was the was the was th \n",
            "\n",
            "[830.6460132598877 s (epoch 1600 40%) 3.5776]\n",
            "Wh; and the struggle started to see the striet of the chied to see the chied to see the chied to see t \n",
            "\n",
            "[934.2823460102081 s (epoch 1800 45%) 2.9450]\n",
            "WhO dear the clerk with the specked to his nephew. \"He was not the same to his nephew. \"He was not the \n",
            "\n",
            "[1037.343005657196 s (epoch 2000 50%) 3.6372]\n",
            "Whing of the streets, and states of the streets,\\nand the street the street the street the streets, and \n",
            "\n",
            "[1139.4485819339752 s (epoch 2200 55%) 2.3554]\n",
            "Whch as the showed to the showed to the showed to the showed to the showed to the showed to the showed \n",
            "\n",
            "[1240.7184920310974 s (epoch 2400 60%) 2.3006]\n",
            "WhKless the could have been down the could have been\\nshadow of the country good of the country good of \n",
            "\n",
            "[1342.1863112449646 s (epoch 2600 65%) 3.0613]\n",
            "WhDed to the Ghost of the\\nthing to the Ghost of the tood of the tood of the first to the\\npeople with t \n",
            "\n",
            "[1443.7118277549744 s (epoch 2800 70%) 3.3880]\n",
            "Whd it was a strangest the course\\nthe course to his course to his course to his course of the same\\nsai \n",
            "\n",
            "[1545.619338274002 s (epoch 3000 75%) 2.7401]\n",
            "Wh\" said Scrooge of his\\ncold, and the first stood of his night, and stood the first stood\\nto him. The  \n",
            "\n",
            "[1647.5759694576263 s (epoch 3200 80%) 2.5092]\n",
            "Wh~ Scrooge had not\\nbell was the same to the same before her heart, and destribute the spectral hand.\\n \n",
            "\n",
            "[1749.358359336853 s (epoch 3400 85%) 3.1306]\n",
            "Wh_ed at the spectre with his\\ncondening in a bright his hands in the spectre with his\\ncondening in a b \n",
            "\n",
            "[1851.1893899440765 s (epoch 3600 90%) 2.5795]\n",
            "Whzer was a little business that believe\\nthe boy was a strange and in a brothers, and a children\\'s ch \n",
            "\n",
            "[1952.4929163455963 s (epoch 3800 95%) 2.7077]\n",
            "WhMressed the children it was\\nsurprise to be surerated for the pressed the children he saw a moment\\nmo \n",
            "\n",
            "[2054.1956355571747 s (epoch 4000 100%) 2.4639]\n",
            "Wh( as he was not a short, and he done\\nto the strong on the strong on the strong on the strong on the  \n",
            "\n"
          ],
          "name": "stdout"
        }
      ]
    },
    {
      "cell_type": "code",
      "metadata": {
        "id": "BQNIJwSw0Tz1",
        "outputId": "74a82f8e-21e7-4e07-b055-6d739d7c36b8",
        "colab": {
          "base_uri": "https://localhost:8080/",
          "height": 300
        }
      },
      "source": [
        "CUDA_LAUNCH_BLOCKING=1\n",
        "from matplotlib import pyplot as plt\n",
        "print(all_losses[0].cpu().detach())\n",
        "plt.plot(all_losses)\n",
        "plt.ylabel(\"Loss\")\n",
        "plt.xlabel(\"Time\")\n",
        "plt.show()"
      ],
      "execution_count": null,
      "outputs": [
        {
          "output_type": "stream",
          "text": [
            "tensor(748.4874)\n"
          ],
          "name": "stdout"
        },
        {
          "output_type": "display_data",
          "data": {
            "image/png": "[encoded data removed]",
            "text/plain": [
              "<Figure size 432x288 with 1 Axes>"
            ]
          },
          "metadata": {
            "tags": []
          }
        }
      ]
    },
    {
      "cell_type": "code",
      "metadata": {
        "id": "Ee0so6aKJ5L8",
        "outputId": "cfe8ec7b-45ca-496f-9f0b-d705557fcbe1",
        "colab": {
          "base_uri": "https://localhost:8080/",
          "height": 547
        }
      },
      "source": [
        "for i in range(10):\n",
        "  start_strings = [\" Th\", \" wh\", \" he\", \" I \", \" ca\", \" G\", \" lo\", \" ra\"]\n",
        "  start = random.randint(0,len(start_strings)-1)\n",
        "  print(start_strings[start])\n",
        "#   all_characters.index(string[c])\n",
        "  print(evaluate(start_strings[start], predict_len=200, temperature=2).replace('\\n','\\\\n'), '\\n')"
      ],
      "execution_count": null,
      "outputs": [
        {
          "output_type": "stream",
          "text": [
            " lo\n",
            " lo.\\n\\n\"I will you see here it is not the Ghost, \"you don\\'t know what it was a laugh. It\\'s a great faith and many you have good a laugh. It was not a short, and he said, on it, you see him was his own,  \n",
            "\n",
            " ra\n",
            " raR and hope you see him was his own, to say\\na long as he said, and so looked at the fire, and having the strong on the strong one of the strong one of the things the door, and\\nstood out with a moment y \n",
            "\n",
            " ca\n",
            " ca\fed in the strong on the moment,\\nthe same of the strong on the town, or one of the family. The more he did so\\nmany coated on the office in the strong on the fire of which it was not a short,\\nfor the f \n",
            "\n",
            " ca\n",
            " caE |an you have been down at his own at the hungry\\nchange and hope you see him was his own at the strong one of the strong on the hallow\\nhe had not below his head. It was a shool of the moment,\\nthe one \n",
            "\n",
            " ra\n",
            " ra`ed to his face was not a large and happier of the moment,\\nthe spont. \"I have not to be not a heavy some off in!\"\\n\\nScrooge had a short of the hall in his head in the strong one of the strong one of th \n",
            "\n",
            " Th\n",
            " ThUse would have been for a man you have\\nbeen to some his own stool before him to say and done in the strong on the\\nthings the hall of the strong on the Project Gutenberg-tm License (any world have\\nbeen \n",
            "\n",
            " ca\n",
            " ca[ and have been a laugh.\\n\\n\"I have not to be light as he might have been a great as he asked him in the last of the moment, you may consequently.\\n\"And you see him was a man you have been for a moment,  \n",
            "\n",
            " G\n",
            " Gvent your so long as the same hands.\\nThe figure--on a man who had no rest and round the office in the more he\\nsaid, when he had not to bed a large and have looked at the strong one of the\\nchildren\\'s  \n",
            "\n",
            " wh\n",
            " whw should have been for a moment your stool before him with the heavy\\nWhat the shops of the strong on the town, or one of the moment,\\nthe door, and hope Joe in the town, or one stood one of the office  \n",
            "\n",
            " wh\n",
            " whd it was not before him in the strong on the most of the was heart, and\\nstood out of the things of the strong on the fire of a long as the Project Gutenberg-tm\\ncomforter stood out of the strong on the \n",
            "\n"
          ],
          "name": "stdout"
        }
      ]
    },
    {
      "cell_type": "markdown",
      "metadata": {
        "id": "O3z6MeSwJAk-"
      },
      "source": [
        "The model does well in general. Loss went down over time. It's great at making English words, but not coherent sentences. Most of these are major word repetitions. As you can see, increasing the temperature to 2 yields much nicer, Dickens-like sentences than we saw printed during training."
      ]
    }
  ]
}